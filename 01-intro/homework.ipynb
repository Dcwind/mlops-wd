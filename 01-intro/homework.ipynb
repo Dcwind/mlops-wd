{
 "cells": [
  {
   "cell_type": "code",
   "execution_count": 1,
   "id": "ac25ed39",
   "metadata": {},
   "outputs": [],
   "source": [
    "import pandas as pd\n",
    "import numpy as np\n",
    "import pickle"
   ]
  },
  {
   "cell_type": "code",
   "execution_count": 2,
   "id": "add49bad",
   "metadata": {},
   "outputs": [
    {
     "data": {
      "text/plain": [
       "'1.4.2'"
      ]
     },
     "execution_count": 2,
     "metadata": {},
     "output_type": "execute_result"
    }
   ],
   "source": [
    "pd.__version__"
   ]
  },
  {
   "cell_type": "code",
   "execution_count": 3,
   "id": "f10615e1",
   "metadata": {},
   "outputs": [],
   "source": [
    "import seaborn as sns\n",
    "import matplotlib.pyplot as plt"
   ]
  },
  {
   "cell_type": "code",
   "execution_count": 4,
   "id": "7e5b302f",
   "metadata": {},
   "outputs": [],
   "source": [
    "from sklearn.feature_extraction import DictVectorizer\n",
    "from sklearn.linear_model import LinearRegression\n",
    "\n",
    "from sklearn.metrics import mean_squared_error"
   ]
  },
  {
   "cell_type": "code",
   "execution_count": 5,
   "id": "a445c29b",
   "metadata": {},
   "outputs": [],
   "source": [
    "df_jan_2023 = pd.read_parquet('./data/yellow_tripdata_2023-01.parquet')\n",
    "df_feb_2023 = pd.read_parquet('./data/yellow_tripdata_2023-02.parquet')"
   ]
  },
  {
   "cell_type": "code",
   "execution_count": 6,
   "id": "2c3d3d3e",
   "metadata": {},
   "outputs": [],
   "source": [
    "df = df_jan_2023"
   ]
  },
  {
   "cell_type": "code",
   "execution_count": 7,
   "id": "b6ed42b5",
   "metadata": {},
   "outputs": [],
   "source": [
    "# df.head()"
   ]
  },
  {
   "cell_type": "code",
   "execution_count": 8,
   "id": "0e9167ab",
   "metadata": {},
   "outputs": [
    {
     "name": "stdout",
     "output_type": "stream",
     "text": [
      "<class 'pandas.core.frame.DataFrame'>\n",
      "RangeIndex: 3066766 entries, 0 to 3066765\n",
      "Data columns (total 19 columns):\n",
      " #   Column                 Dtype         \n",
      "---  ------                 -----         \n",
      " 0   VendorID               int64         \n",
      " 1   tpep_pickup_datetime   datetime64[ns]\n",
      " 2   tpep_dropoff_datetime  datetime64[ns]\n",
      " 3   passenger_count        float64       \n",
      " 4   trip_distance          float64       \n",
      " 5   RatecodeID             float64       \n",
      " 6   store_and_fwd_flag     object        \n",
      " 7   PULocationID           int64         \n",
      " 8   DOLocationID           int64         \n",
      " 9   payment_type           int64         \n",
      " 10  fare_amount            float64       \n",
      " 11  extra                  float64       \n",
      " 12  mta_tax                float64       \n",
      " 13  tip_amount             float64       \n",
      " 14  tolls_amount           float64       \n",
      " 15  improvement_surcharge  float64       \n",
      " 16  total_amount           float64       \n",
      " 17  congestion_surcharge   float64       \n",
      " 18  airport_fee            float64       \n",
      "dtypes: datetime64[ns](2), float64(12), int64(4), object(1)\n",
      "memory usage: 444.6+ MB\n"
     ]
    }
   ],
   "source": [
    "df.info()"
   ]
  },
  {
   "cell_type": "code",
   "execution_count": 9,
   "id": "d2f4b3ae",
   "metadata": {},
   "outputs": [],
   "source": [
    "df['duration'] = df.tpep_dropoff_datetime - df.tpep_pickup_datetime\n",
    "\n",
    "# print(df['duration'].dtype)\n",
    "# print(type(df['duration'].iloc[0]))"
   ]
  },
  {
   "cell_type": "code",
   "execution_count": 10,
   "id": "3244bb51",
   "metadata": {},
   "outputs": [
    {
     "data": {
      "text/plain": [
       "count                      3066766\n",
       "mean     0 days 00:15:40.139710039\n",
       "std      0 days 00:42:35.661074517\n",
       "min              -1 days +23:30:48\n",
       "25%                0 days 00:07:07\n",
       "50%                0 days 00:11:31\n",
       "75%                0 days 00:18:18\n",
       "max                6 days 23:09:11\n",
       "Name: duration, dtype: object"
      ]
     },
     "execution_count": 10,
     "metadata": {},
     "output_type": "execute_result"
    }
   ],
   "source": [
    "df['duration'].describe()"
   ]
  },
  {
   "cell_type": "code",
   "execution_count": 11,
   "id": "3cf8ceb8",
   "metadata": {},
   "outputs": [],
   "source": [
    "df['duration'] = df['duration'].dt.total_seconds() / 60"
   ]
  },
  {
   "cell_type": "code",
   "execution_count": 12,
   "id": "f04aee09",
   "metadata": {},
   "outputs": [],
   "source": [
    "# print(df['duration'].dtype)\n",
    "# print(type(df['duration'].iloc[0]))"
   ]
  },
  {
   "cell_type": "code",
   "execution_count": 13,
   "id": "5a938d35",
   "metadata": {},
   "outputs": [],
   "source": [
    "# df['duration'] = df.duration.apply(lambda td: td.total_seconds() / 60) #td time delta / not needed"
   ]
  },
  {
   "cell_type": "code",
   "execution_count": 14,
   "id": "d16a7187",
   "metadata": {},
   "outputs": [],
   "source": [
    "#df = df[df['RatecodeID'] == 5] # Negotiated fare - https://www.nyc.gov/assets/tlc/downloads/pdf/data_dictionary_trip_records_yellow.pdf"
   ]
  },
  {
   "cell_type": "code",
   "execution_count": 15,
   "id": "db1e613d",
   "metadata": {},
   "outputs": [],
   "source": [
    "# df.duration.describe(percentiles=[0.95, 0.98, 0.99])"
   ]
  },
  {
   "cell_type": "code",
   "execution_count": 16,
   "id": "9bad8462",
   "metadata": {},
   "outputs": [
    {
     "data": {
      "text/plain": [
       "0.9812202822125979"
      ]
     },
     "execution_count": 16,
     "metadata": {},
     "output_type": "execute_result"
    }
   ],
   "source": [
    "((df.duration >= 1) & (df.duration <= 60)).mean()"
   ]
  },
  {
   "cell_type": "code",
   "execution_count": 17,
   "id": "ac4cc0de",
   "metadata": {},
   "outputs": [],
   "source": [
    "df = df[(df.duration >= 1) & (df.duration <= 60)].copy()\n",
    "# df['duration'].describe()"
   ]
  },
  {
   "cell_type": "code",
   "execution_count": 18,
   "id": "907225a4",
   "metadata": {},
   "outputs": [],
   "source": [
    "categorical = ['PULocationID', 'DOLocationID']"
   ]
  },
  {
   "cell_type": "code",
   "execution_count": 19,
   "id": "5c8dee15",
   "metadata": {},
   "outputs": [],
   "source": [
    "numerical = ['trip_distance']"
   ]
  },
  {
   "cell_type": "code",
   "execution_count": 20,
   "id": "4191a9e0",
   "metadata": {},
   "outputs": [],
   "source": [
    "df[categorical] = df[categorical].astype(str)"
   ]
  },
  {
   "cell_type": "code",
   "execution_count": 21,
   "id": "a369ce21",
   "metadata": {},
   "outputs": [],
   "source": [
    "# df[caterorical + numerical].iloc[:10].to_dict(orient='records')"
   ]
  },
  {
   "cell_type": "code",
   "execution_count": 22,
   "id": "5698045a",
   "metadata": {},
   "outputs": [],
   "source": [
    "# train_dicts = df[caterorical + numerical].to_dict(orient='records')\n",
    "train_dicts = df[categorical].to_dict(orient='records')"
   ]
  },
  {
   "cell_type": "code",
   "execution_count": 23,
   "id": "8198af98",
   "metadata": {},
   "outputs": [],
   "source": [
    "dv = DictVectorizer()\n",
    "X_train = dv.fit_transform(train_dicts)"
   ]
  },
  {
   "cell_type": "code",
   "execution_count": 24,
   "id": "adee4ff5",
   "metadata": {},
   "outputs": [
    {
     "data": {
      "text/plain": [
       "<3009173x515 sparse matrix of type '<class 'numpy.float64'>'\n",
       "\twith 6018346 stored elements in Compressed Sparse Row format>"
      ]
     },
     "execution_count": 24,
     "metadata": {},
     "output_type": "execute_result"
    }
   ],
   "source": [
    "X_train"
   ]
  },
  {
   "cell_type": "code",
   "execution_count": 25,
   "id": "24ba1dc4",
   "metadata": {},
   "outputs": [
    {
     "data": {
      "text/plain": [
       "(3009173, 515)"
      ]
     },
     "execution_count": 25,
     "metadata": {},
     "output_type": "execute_result"
    }
   ],
   "source": [
    "X_train.shape"
   ]
  },
  {
   "cell_type": "code",
   "execution_count": 26,
   "id": "27f667f1",
   "metadata": {},
   "outputs": [],
   "source": [
    "# dv.feature_names_"
   ]
  },
  {
   "cell_type": "code",
   "execution_count": 27,
   "id": "89e1283a",
   "metadata": {},
   "outputs": [],
   "source": [
    "target = 'duration'\n",
    "y_train = df[target].values"
   ]
  },
  {
   "cell_type": "code",
   "execution_count": 28,
   "id": "366d43a5",
   "metadata": {},
   "outputs": [
    {
     "data": {
      "text/plain": [
       "array([ 8.43333333,  6.31666667, 12.75      , ..., 24.51666667,\n",
       "       13.        , 14.4       ])"
      ]
     },
     "execution_count": 28,
     "metadata": {},
     "output_type": "execute_result"
    }
   ],
   "source": [
    "y_train"
   ]
  },
  {
   "cell_type": "code",
   "execution_count": 29,
   "id": "840bf097",
   "metadata": {},
   "outputs": [],
   "source": [
    "def preprocess(train_df, val_df, catergorical, numerical, target, flag='train'):\n",
    "    \n",
    "    def dfCleaner(df):\n",
    "        df['duration'] = df.tpep_dropoff_datetime - df.tpep_pickup_datetime\n",
    "        df['duration'] = df['duration'].dt.total_seconds() / 60\n",
    "        df = df[(df.duration >= 1) & (df.duration <= 60)].copy()\n",
    "        df[categorical] = df[categorical].astype(str)\n",
    "        dicts = df[categorical].to_dict(orient='records')\n",
    "        y = df[target].values\n",
    "        \n",
    "        return dicts, y\n",
    "    \n",
    "    train_dicts, y_train = dfCleaner(train_df)\n",
    "    val_dicts, y_val = dfCleaner(val_df)\n",
    "    \n",
    "    \n",
    "    dv = DictVectorizer()\n",
    "    X = dv.fit_transform(train_dicts)\n",
    "    y = y_train\n",
    "    if flag == 'val':\n",
    "        X = dv.transform(val_dicts)\n",
    "        y = y_val\n",
    "        \n",
    "    return X, y"
   ]
  },
  {
   "cell_type": "code",
   "execution_count": null,
   "id": "f611d6c4",
   "metadata": {},
   "outputs": [],
   "source": [
    "X_val, y_val = preprocess(df_jan_2023, df_feb_2023, categorical, numerical, target, flag='val')"
   ]
  },
  {
   "cell_type": "code",
   "execution_count": null,
   "id": "bd4dba08",
   "metadata": {},
   "outputs": [],
   "source": [
    "X_val.shape"
   ]
  },
  {
   "cell_type": "code",
   "execution_count": null,
   "id": "6959a58c",
   "metadata": {},
   "outputs": [],
   "source": [
    "model = LinearRegression()\n",
    "model.fit(X_train, y_train)"
   ]
  },
  {
   "cell_type": "code",
   "execution_count": null,
   "id": "d6acbfd1",
   "metadata": {},
   "outputs": [],
   "source": [
    "y_pred_train = model.predict(X_train)\n",
    "rmse_train = mean_squared_error(y_train, y_pred_train, squared=False)\n",
    "print(\"RMSE on train:\", round(rmse_train, 2))"
   ]
  },
  {
   "cell_type": "code",
   "execution_count": null,
   "id": "b60a2270",
   "metadata": {},
   "outputs": [],
   "source": [
    "y_pred_val = model.predict(X_val)\n",
    "rmse_val = mean_squared_error(y_val, y_pred_val, squared=False)\n",
    "print(\"RMSE on validation:\", round(rmse_val, 2))"
   ]
  }
 ],
 "metadata": {
  "kernelspec": {
   "display_name": "Python 3 (ipykernel)",
   "language": "python",
   "name": "python3"
  },
  "language_info": {
   "codemirror_mode": {
    "name": "ipython",
    "version": 3
   },
   "file_extension": ".py",
   "mimetype": "text/x-python",
   "name": "python",
   "nbconvert_exporter": "python",
   "pygments_lexer": "ipython3",
   "version": "3.9.12"
  }
 },
 "nbformat": 4,
 "nbformat_minor": 5
}
